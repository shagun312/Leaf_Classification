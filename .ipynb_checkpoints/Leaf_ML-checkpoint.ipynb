{
 "cells": [
  {
   "cell_type": "markdown",
   "id": "d0ce334a",
   "metadata": {},
   "source": [
    "# MACHINE LEARNING ASSIGNMENT - LEAF CLASSIFICATION\n",
    "\n",
    "\n",
    "\n",
    "## SUBMITTED BY : \n",
    "### KHUSHI THAPAR (102018054)\n",
    "### SHAGUN SHARMA (102018062)"
   ]
  },
  {
   "cell_type": "markdown",
   "id": "33932bc4",
   "metadata": {},
   "source": [
    "## PREDICTING SPECIES OF LEAF"
   ]
  },
  {
   "cell_type": "markdown",
   "id": "02caa5ab",
   "metadata": {},
   "source": [
    "### IMPORTING LIBRARIES"
   ]
  },
  {
   "cell_type": "code",
   "execution_count": 1,
   "id": "9a6e8ef7",
   "metadata": {},
   "outputs": [],
   "source": [
    "import pandas as pd\n",
    "import numpy as np"
   ]
  },
  {
   "cell_type": "markdown",
   "id": "8b115338",
   "metadata": {},
   "source": [
    "### LOADING DATA"
   ]
  },
  {
   "cell_type": "code",
   "execution_count": 2,
   "id": "7ee79854",
   "metadata": {},
   "outputs": [],
   "source": [
    "train = pd.read_csv('train.csv')\n",
    "test = pd.read_csv('test.csv')"
   ]
  },
  {
   "cell_type": "code",
   "execution_count": 3,
   "id": "3dc8b9ac",
   "metadata": {},
   "outputs": [],
   "source": [
    "x_train = train.drop(['id', 'species'], axis = 1)\n",
    "x_test = test.drop(['id'], axis  = 1)"
   ]
  },
  {
   "cell_type": "code",
   "execution_count": 4,
   "id": "1a430389",
   "metadata": {},
   "outputs": [],
   "source": [
    "y_train = train['species']"
   ]
  },
  {
   "cell_type": "markdown",
   "id": "c915dda2",
   "metadata": {},
   "source": [
    "### FINDING NULL VALUES IN THE DATA"
   ]
  },
  {
   "cell_type": "code",
   "execution_count": 5,
   "id": "39f65459",
   "metadata": {},
   "outputs": [
    {
     "data": {
      "text/plain": [
       "0"
      ]
     },
     "execution_count": 5,
     "metadata": {},
     "output_type": "execute_result"
    }
   ],
   "source": [
    "train.isnull().any().sum()"
   ]
  },
  {
   "cell_type": "markdown",
   "id": "836b95f7",
   "metadata": {},
   "source": [
    "### FINDING UNIQUE VALUES "
   ]
  },
  {
   "cell_type": "code",
   "execution_count": 6,
   "id": "5d78e822",
   "metadata": {},
   "outputs": [
    {
     "data": {
      "text/plain": [
       "99"
      ]
     },
     "execution_count": 6,
     "metadata": {},
     "output_type": "execute_result"
    }
   ],
   "source": [
    "y_train.nunique()"
   ]
  },
  {
   "cell_type": "markdown",
   "id": "70cee519",
   "metadata": {},
   "source": [
    "### INDEXING SPECIES "
   ]
  },
  {
   "cell_type": "code",
   "execution_count": 7,
   "id": "27b4a5da",
   "metadata": {},
   "outputs": [],
   "source": [
    "species = {idx:value for idx , value in enumerate(y_train.unique())}"
   ]
  },
  {
   "cell_type": "markdown",
   "id": "7bb9fc75",
   "metadata": {},
   "source": [
    "### SPLITTING INTO TRAINING AND TESTING "
   ]
  },
  {
   "cell_type": "code",
   "execution_count": 8,
   "id": "12df30a7",
   "metadata": {},
   "outputs": [],
   "source": [
    "from sklearn.model_selection import  train_test_split"
   ]
  },
  {
   "cell_type": "code",
   "execution_count": 9,
   "id": "ca453f56",
   "metadata": {},
   "outputs": [],
   "source": [
    "train_t, train_test, y_t, y_test = train_test_split(x_train, y_train, test_size = 0.2, random_state =1)"
   ]
  },
  {
   "cell_type": "markdown",
   "id": "c212b39d",
   "metadata": {},
   "source": [
    "### REPLACING SPECIES NAMES WITH VALUES"
   ]
  },
  {
   "cell_type": "code",
   "execution_count": 10,
   "id": "eb6bbd45",
   "metadata": {},
   "outputs": [],
   "source": [
    " train_species = y_t.replace(to_replace=species.values(),value=species)"
   ]
  },
  {
   "cell_type": "code",
   "execution_count": 11,
   "id": "4d31ec5c",
   "metadata": {},
   "outputs": [
    {
     "data": {
      "text/plain": [
       "812    21\n",
       "47     40\n",
       "516    73\n",
       "851    80\n",
       "19     19\n",
       "       ..\n",
       "767    55\n",
       "72     53\n",
       "908    28\n",
       "235    81\n",
       "37     33\n",
       "Name: species, Length: 792, dtype: int64"
      ]
     },
     "execution_count": 11,
     "metadata": {},
     "output_type": "execute_result"
    }
   ],
   "source": [
    "train_species"
   ]
  },
  {
   "cell_type": "code",
   "execution_count": 12,
   "id": "88a36be2",
   "metadata": {},
   "outputs": [],
   "source": [
    "test_species = y_test.replace(to_replace=species.values(),value=species)"
   ]
  },
  {
   "cell_type": "code",
   "execution_count": 13,
   "id": "e52db9c5",
   "metadata": {},
   "outputs": [
    {
     "data": {
      "text/plain": [
       "320    96\n",
       "834    43\n",
       "946    72\n",
       "702     0\n",
       "941    24\n",
       "       ..\n",
       "783    26\n",
       "207    54\n",
       "757    71\n",
       "341    78\n",
       "241    24\n",
       "Name: species, Length: 198, dtype: int64"
      ]
     },
     "execution_count": 13,
     "metadata": {},
     "output_type": "execute_result"
    }
   ],
   "source": [
    "test_species"
   ]
  },
  {
   "cell_type": "markdown",
   "id": "3df66f32",
   "metadata": {},
   "source": [
    "## MODEL FITTING\n",
    "### DECISION TREE CLASSIFICATION "
   ]
  },
  {
   "cell_type": "code",
   "execution_count": 14,
   "id": "efdbae1b",
   "metadata": {},
   "outputs": [],
   "source": [
    "from sklearn.tree import DecisionTreeClassifier \n",
    "from sklearn import metrics"
   ]
  },
  {
   "cell_type": "code",
   "execution_count": 15,
   "id": "cfcea222",
   "metadata": {},
   "outputs": [],
   "source": [
    "clf = DecisionTreeClassifier()"
   ]
  },
  {
   "cell_type": "code",
   "execution_count": 16,
   "id": "a596ff2f",
   "metadata": {},
   "outputs": [],
   "source": [
    "clf = clf.fit(train_t, train_species)"
   ]
  },
  {
   "cell_type": "code",
   "execution_count": 17,
   "id": "81366501",
   "metadata": {},
   "outputs": [],
   "source": [
    "testdata2 = clf.predict(train_test)"
   ]
  },
  {
   "cell_type": "code",
   "execution_count": 18,
   "id": "aa535d12",
   "metadata": {},
   "outputs": [
    {
     "data": {
      "text/plain": [
       "array([96, 43, 71,  0, 81, 45,  8, 18, 54, 84, 81, 57, 85, 73, 48,  1,  9,\n",
       "       69, 68, 51, 40,  1, 45, 32, 58, 80, 53, 46, 65, 68, 89, 76, 97, 16,\n",
       "        2, 25, 79, 32, 70, 67, 72,  5,  2, 10, 15, 51, 30,  0, 31, 23, 92,\n",
       "       87, 94, 96, 19, 62, 28, 82, 22, 51, 95, 57, 73, 63, 70, 17,  8, 42,\n",
       "       41,  9, 32, 50,  8, 37, 32, 71,  0, 34,  2, 36, 50, 23, 30, 10,  6,\n",
       "       82, 44, 61, 19, 20, 55, 31, 86, 27,  8, 81, 35, 93, 60, 48, 93, 83,\n",
       "       93,  8,  7, 41, 26, 31,  5, 73, 90, 29, 27, 94,  1, 94, 31, 24,  3,\n",
       "       69, 11, 92, 73, 59, 96, 35,  7, 46, 37, 48, 57,  2, 48, 71,  6, 84,\n",
       "       27, 41, 35, 27, 60, 90, 70, 12, 94, 22, 62, 26, 68, 25,  8, 73, 36,\n",
       "       67, 67, 85, 58, 20, 88, 75, 73, 60, 64, 41, 78, 10, 31, 19, 39,  0,\n",
       "       98,  9, 95, 20, 33, 38, 60, 10,  3, 59, 82, 63, 89,  2, 71, 10, 17,\n",
       "       12, 11, 97,  5, 89, 43, 37, 89, 71, 78, 24], dtype=int64)"
      ]
     },
     "execution_count": 18,
     "metadata": {},
     "output_type": "execute_result"
    }
   ],
   "source": [
    "testdata2\n"
   ]
  },
  {
   "cell_type": "code",
   "execution_count": 19,
   "id": "c2cfb696",
   "metadata": {},
   "outputs": [
    {
     "data": {
      "text/html": [
       "<div>\n",
       "<style scoped>\n",
       "    .dataframe tbody tr th:only-of-type {\n",
       "        vertical-align: middle;\n",
       "    }\n",
       "\n",
       "    .dataframe tbody tr th {\n",
       "        vertical-align: top;\n",
       "    }\n",
       "\n",
       "    .dataframe thead th {\n",
       "        text-align: right;\n",
       "    }\n",
       "</style>\n",
       "<table border=\"1\" class=\"dataframe\">\n",
       "  <thead>\n",
       "    <tr style=\"text-align: right;\">\n",
       "      <th></th>\n",
       "      <th>Species</th>\n",
       "    </tr>\n",
       "  </thead>\n",
       "  <tbody>\n",
       "    <tr>\n",
       "      <th>0</th>\n",
       "      <td>96</td>\n",
       "    </tr>\n",
       "    <tr>\n",
       "      <th>1</th>\n",
       "      <td>43</td>\n",
       "    </tr>\n",
       "    <tr>\n",
       "      <th>2</th>\n",
       "      <td>71</td>\n",
       "    </tr>\n",
       "    <tr>\n",
       "      <th>3</th>\n",
       "      <td>0</td>\n",
       "    </tr>\n",
       "    <tr>\n",
       "      <th>4</th>\n",
       "      <td>81</td>\n",
       "    </tr>\n",
       "    <tr>\n",
       "      <th>...</th>\n",
       "      <td>...</td>\n",
       "    </tr>\n",
       "    <tr>\n",
       "      <th>193</th>\n",
       "      <td>37</td>\n",
       "    </tr>\n",
       "    <tr>\n",
       "      <th>194</th>\n",
       "      <td>89</td>\n",
       "    </tr>\n",
       "    <tr>\n",
       "      <th>195</th>\n",
       "      <td>71</td>\n",
       "    </tr>\n",
       "    <tr>\n",
       "      <th>196</th>\n",
       "      <td>78</td>\n",
       "    </tr>\n",
       "    <tr>\n",
       "      <th>197</th>\n",
       "      <td>24</td>\n",
       "    </tr>\n",
       "  </tbody>\n",
       "</table>\n",
       "<p>198 rows × 1 columns</p>\n",
       "</div>"
      ],
      "text/plain": [
       "     Species\n",
       "0         96\n",
       "1         43\n",
       "2         71\n",
       "3          0\n",
       "4         81\n",
       "..       ...\n",
       "193       37\n",
       "194       89\n",
       "195       71\n",
       "196       78\n",
       "197       24\n",
       "\n",
       "[198 rows x 1 columns]"
      ]
     },
     "execution_count": 19,
     "metadata": {},
     "output_type": "execute_result"
    }
   ],
   "source": [
    "y_testval = pd.DataFrame(testdata2, columns = ['Species'])\n",
    "y_testval"
   ]
  },
  {
   "cell_type": "code",
   "execution_count": 20,
   "id": "9a3e1705",
   "metadata": {},
   "outputs": [
    {
     "data": {
      "text/plain": [
       "320    96\n",
       "834    43\n",
       "946    72\n",
       "702     0\n",
       "941    24\n",
       "       ..\n",
       "783    26\n",
       "207    54\n",
       "757    71\n",
       "341    78\n",
       "241    24\n",
       "Name: species, Length: 198, dtype: int64"
      ]
     },
     "execution_count": 20,
     "metadata": {},
     "output_type": "execute_result"
    }
   ],
   "source": [
    "test_species"
   ]
  },
  {
   "cell_type": "markdown",
   "id": "9d623a24",
   "metadata": {},
   "source": [
    "### ACCURACY"
   ]
  },
  {
   "cell_type": "code",
   "execution_count": 21,
   "id": "2d73353f",
   "metadata": {},
   "outputs": [
    {
     "name": "stdout",
     "output_type": "stream",
     "text": [
      "Accuracy: 0.6060606060606061\n"
     ]
    }
   ],
   "source": [
    "print(\"Accuracy:\",metrics.accuracy_score(test_species, y_testval))"
   ]
  },
  {
   "cell_type": "markdown",
   "id": "da464c73",
   "metadata": {},
   "source": [
    "### PREDICTING SPECIES OF TEST DATA "
   ]
  },
  {
   "cell_type": "code",
   "execution_count": 22,
   "id": "6bc38883",
   "metadata": {},
   "outputs": [],
   "source": [
    "res = clf.predict(x_test)"
   ]
  },
  {
   "cell_type": "code",
   "execution_count": 23,
   "id": "ec2e2a2a",
   "metadata": {},
   "outputs": [
    {
     "data": {
      "text/plain": [
       "array([69, 93, 62, 43, 58,  3,  0, 31,  4, 58, 73, 12, 44, 68, 40, 69, 36,\n",
       "       25, 21, 54, 82, 85, 65, 92, 55, 95, 31, 23, 52, 95,  8, 12, 43, 97,\n",
       "       52, 27, 41,  2, 71, 58, 58, 51, 58, 41, 54, 95, 77, 37,  0,  1, 62,\n",
       "       57, 76,  3, 34, 81, 46,  1, 56, 76, 29, 64, 32, 89,  8, 55, 42, 57,\n",
       "       21, 17,  6, 77, 66, 46, 15, 10, 48,  4, 33, 68, 37, 16, 85, 37, 62,\n",
       "        0, 73, 20,  5, 26, 85, 96, 33, 32, 27, 69, 84, 27, 79,  9, 62, 22,\n",
       "       67, 30, 68, 57, 97, 83, 44, 53, 67, 55, 80, 81, 58, 29, 35, 75, 43,\n",
       "       65, 27, 96, 35, 30, 18, 28, 64, 15, 77, 66, 37, 72, 84, 82, 73, 60,\n",
       "       66, 31, 67, 59, 88, 64, 97, 46, 35, 40, 27, 69, 88, 47, 14, 34, 89,\n",
       "       52, 90, 62, 68, 77, 16, 18, 48, 35, 20, 46, 30, 49, 36, 75,  6, 92,\n",
       "       18, 32, 66, 32, 58, 68, 14,  3, 28, 26, 23, 78,  9,  6, 16, 57, 66,\n",
       "       78, 71,  1,  9, 53, 27, 55, 81,  3, 16, 98, 66, 44, 91, 87, 64, 78,\n",
       "       31, 41,  7, 96, 19,  9, 45, 67, 72, 89, 70, 83, 95, 51, 66,  7, 98,\n",
       "       97, 19, 77, 57, 35, 68, 78, 78, 80, 30, 29, 96,  1, 33, 59, 96, 70,\n",
       "       38, 28, 26, 54, 19, 95, 51, 96, 81, 50, 59, 81, 50, 59, 42,  8, 65,\n",
       "       44, 57,  8, 97, 25, 41, 67, 20, 84, 81, 89, 10, 26, 97, 89, 30,  7,\n",
       "       27, 86, 28, 33, 46, 77, 16, 76, 38, 75, 80, 60, 91, 88, 48, 83, 37,\n",
       "       15, 11, 56,  8, 22, 11, 55, 60, 62, 40, 71, 73, 40, 88, 87, 72, 81,\n",
       "       83, 28, 29, 41, 89, 13, 11, 77, 38, 94,  2, 68, 20, 35, 63, 14, 70,\n",
       "       65, 46, 77, 58, 85, 44, 69, 93, 69,  3, 39, 70, 61,  9, 65, 35, 42,\n",
       "       32, 81, 15, 98, 90, 45, 90, 85, 43, 81, 90, 27, 97, 52, 73, 24, 91,\n",
       "        7, 50, 57, 37, 59, 73,  8, 83, 64, 54, 78, 83, 88, 22, 90, 10, 20,\n",
       "       96, 44, 50, 55, 61, 64, 85,  1, 42, 34, 12, 23, 61, 17, 65, 19, 46,\n",
       "       52, 58, 76, 73, 77, 19, 51, 81, 65, 41, 53, 15, 37, 13, 50, 47, 31,\n",
       "       26, 48, 53, 21, 93, 17, 75, 56, 91, 71,  4, 57, 32, 75, 84, 15, 91,\n",
       "       17, 84,  2, 83, 49, 59, 47, 71, 64, 25, 38, 57, 79, 80, 71, 58, 62,\n",
       "       38, 46, 68, 36, 18, 72, 97, 70, 84, 46,  0, 25, 53, 38, 40, 11, 84,\n",
       "       29, 89, 78, 36, 22, 75, 18, 12,  1, 44,  8,  7, 63, 64, 32, 97, 29,\n",
       "       73, 98, 75, 35, 12, 23, 85, 58, 22, 65, 69, 50, 80, 65, 73, 79, 81,\n",
       "       22, 65, 19, 18, 52,  1, 11,  6, 98,  2, 93, 23, 68, 73, 54, 75, 42,\n",
       "       36, 34, 11, 93, 78, 12, 24, 83, 88, 47, 91, 43, 90, 31, 40, 75, 33,\n",
       "       28, 14, 25,  4, 12, 89, 60, 38, 82, 75, 15, 67, 48, 33, 84, 86, 98,\n",
       "       61, 97, 69, 17, 17, 43, 81,  0, 65, 87, 92, 10, 57,  1, 23, 15, 51,\n",
       "       92, 16, 76, 22, 62, 11, 45, 65, 86, 55, 91, 97, 69, 83, 13, 46, 59,\n",
       "       58, 70, 67, 15, 68, 98, 65, 45,  8, 39, 28, 62, 62, 57, 90, 23],\n",
       "      dtype=int64)"
      ]
     },
     "execution_count": 23,
     "metadata": {},
     "output_type": "execute_result"
    }
   ],
   "source": [
    "res"
   ]
  },
  {
   "cell_type": "code",
   "execution_count": 24,
   "id": "36ae27e2",
   "metadata": {},
   "outputs": [],
   "source": [
    "result = pd.DataFrame(res, columns = ['Species'])"
   ]
  },
  {
   "cell_type": "markdown",
   "id": "534a35a9",
   "metadata": {},
   "source": [
    "### FROM SPECIES NUMBERING TO SPECIES NAME"
   ]
  },
  {
   "cell_type": "code",
   "execution_count": 25,
   "id": "eaa97eaa",
   "metadata": {},
   "outputs": [],
   "source": [
    "ans = result.replace(to_replace=species.keys(),value=species.values())"
   ]
  },
  {
   "cell_type": "code",
   "execution_count": 26,
   "id": "faa86d56",
   "metadata": {},
   "outputs": [
    {
     "data": {
      "text/html": [
       "<div>\n",
       "<style scoped>\n",
       "    .dataframe tbody tr th:only-of-type {\n",
       "        vertical-align: middle;\n",
       "    }\n",
       "\n",
       "    .dataframe tbody tr th {\n",
       "        vertical-align: top;\n",
       "    }\n",
       "\n",
       "    .dataframe thead th {\n",
       "        text-align: right;\n",
       "    }\n",
       "</style>\n",
       "<table border=\"1\" class=\"dataframe\">\n",
       "  <thead>\n",
       "    <tr style=\"text-align: right;\">\n",
       "      <th></th>\n",
       "      <th>Species</th>\n",
       "    </tr>\n",
       "  </thead>\n",
       "  <tbody>\n",
       "    <tr>\n",
       "      <th>0</th>\n",
       "      <td>Populus_Nigra</td>\n",
       "    </tr>\n",
       "    <tr>\n",
       "      <th>1</th>\n",
       "      <td>Castanea_Sativa</td>\n",
       "    </tr>\n",
       "    <tr>\n",
       "      <th>2</th>\n",
       "      <td>Acer_Circinatum</td>\n",
       "    </tr>\n",
       "    <tr>\n",
       "      <th>3</th>\n",
       "      <td>Prunus_Avium</td>\n",
       "    </tr>\n",
       "    <tr>\n",
       "      <th>4</th>\n",
       "      <td>Acer_Rufinerve</td>\n",
       "    </tr>\n",
       "    <tr>\n",
       "      <th>...</th>\n",
       "      <td>...</td>\n",
       "    </tr>\n",
       "    <tr>\n",
       "      <th>589</th>\n",
       "      <td>Acer_Circinatum</td>\n",
       "    </tr>\n",
       "    <tr>\n",
       "      <th>590</th>\n",
       "      <td>Acer_Circinatum</td>\n",
       "    </tr>\n",
       "    <tr>\n",
       "      <th>591</th>\n",
       "      <td>Acer_Pictum</td>\n",
       "    </tr>\n",
       "    <tr>\n",
       "      <th>592</th>\n",
       "      <td>Quercus_x_Hispanica</td>\n",
       "    </tr>\n",
       "    <tr>\n",
       "      <th>593</th>\n",
       "      <td>Arundinaria_Simonii</td>\n",
       "    </tr>\n",
       "  </tbody>\n",
       "</table>\n",
       "<p>594 rows × 1 columns</p>\n",
       "</div>"
      ],
      "text/plain": [
       "                 Species\n",
       "0          Populus_Nigra\n",
       "1        Castanea_Sativa\n",
       "2        Acer_Circinatum\n",
       "3           Prunus_Avium\n",
       "4         Acer_Rufinerve\n",
       "..                   ...\n",
       "589      Acer_Circinatum\n",
       "590      Acer_Circinatum\n",
       "591          Acer_Pictum\n",
       "592  Quercus_x_Hispanica\n",
       "593  Arundinaria_Simonii\n",
       "\n",
       "[594 rows x 1 columns]"
      ]
     },
     "execution_count": 26,
     "metadata": {},
     "output_type": "execute_result"
    }
   ],
   "source": [
    "ans"
   ]
  },
  {
   "cell_type": "markdown",
   "id": "a0a1d8a8",
   "metadata": {},
   "source": [
    "### RANDOM FOREST "
   ]
  },
  {
   "cell_type": "code",
   "execution_count": null,
   "id": "a82b1323",
   "metadata": {
    "pycharm": {
     "is_executing": true
    }
   },
   "outputs": [],
   "source": [
    "from sklearn.ensemble import RandomForestClassifier\n",
    "classifier = RandomForestClassifier(n_estimators = 50)\n",
    "classifier.fit(train_t, train_species)"
   ]
  },
  {
   "cell_type": "code",
   "execution_count": null,
   "id": "c61b73d4",
   "metadata": {
    "pycharm": {
     "is_executing": true
    }
   },
   "outputs": [],
   "source": [
    "pred_s = classifier.predict(train_test)\n",
    "pred_s"
   ]
  },
  {
   "cell_type": "markdown",
   "id": "7b267c17",
   "metadata": {},
   "source": [
    "### ACCURACY"
   ]
  },
  {
   "cell_type": "code",
   "execution_count": null,
   "id": "6334d615",
   "metadata": {
    "pycharm": {
     "is_executing": true
    }
   },
   "outputs": [],
   "source": [
    "accuracy_score(test_species, pred_s)"
   ]
  },
  {
   "cell_type": "markdown",
   "id": "8e6e2e81",
   "metadata": {},
   "source": [
    "### PREDICTION OF TEST DATA "
   ]
  },
  {
   "cell_type": "code",
   "execution_count": null,
   "id": "1fff4827",
   "metadata": {
    "pycharm": {
     "is_executing": true
    }
   },
   "outputs": [],
   "source": [
    "pred = classifier.predict(x_test)"
   ]
  },
  {
   "cell_type": "code",
   "execution_count": null,
   "id": "425b7d02",
   "metadata": {
    "pycharm": {
     "is_executing": true
    }
   },
   "outputs": [],
   "source": [
    "result2 = pd.DataFrame(pred, columns = ['Species'])\n",
    "result2"
   ]
  },
  {
   "cell_type": "code",
   "execution_count": null,
   "id": "f74a0890",
   "metadata": {
    "pycharm": {
     "is_executing": true
    }
   },
   "outputs": [],
   "source": [
    "res2 = result2.replace(to_replace=species.keys(),value=species.values())"
   ]
  },
  {
   "cell_type": "code",
   "execution_count": null,
   "id": "311e884c",
   "metadata": {
    "pycharm": {
     "is_executing": true
    }
   },
   "outputs": [],
   "source": [
    "res2"
   ]
  },
  {
   "cell_type": "markdown",
   "id": "97f75371",
   "metadata": {},
   "source": [
    "## IMAGE CLASSIFICATION\n",
    "\n"
   ]
  },
  {
   "cell_type": "markdown",
   "id": "b6e08da5",
   "metadata": {},
   "source": [
    "### LOADING LIBRARIES"
   ]
  },
  {
   "cell_type": "code",
   "execution_count": 55,
   "id": "dfd1d332",
   "metadata": {
    "pycharm": {
     "is_executing": true
    }
   },
   "outputs": [],
   "source": [
    "import tensorflow as tf\n",
    "from tensorflow import keras\n",
    "from keras import Sequential\n",
    "from keras.layers import Dense,Conv2D,MaxPooling2D,Flatten,BatchNormalization,Dropout\n"
   ]
  },
  {
   "cell_type": "markdown",
   "id": "f482418f",
   "metadata": {},
   "source": [
    "### LOADING IMAGE DATA AND RESIZING THE IMAGES "
   ]
  },
  {
   "cell_type": "code",
   "execution_count": 56,
   "id": "e7668f95",
   "metadata": {
    "pycharm": {
     "is_executing": true
    }
   },
   "outputs": [
    {
     "name": "stdout",
     "output_type": "stream",
     "text": [
      "Found 50 files belonging to 2 classes.\n",
      "Found 41 files belonging to 2 classes.\n"
     ]
    }
   ],
   "source": [
    "train_ds = keras.utils.image_dataset_from_directory(\n",
    "    directory = 'train',\n",
    "    labels='inferred',\n",
    "    label_mode = 'int',\n",
    "    batch_size=4,\n",
    "    image_size=(256,256)\n",
    ")\n",
    "\n",
    "validation_ds = keras.utils.image_dataset_from_directory(\n",
    "    directory = 'test',\n",
    "    labels='inferred',\n",
    "    label_mode = 'int',\n",
    "    batch_size=4,\n",
    "    image_size=(256,256)\n",
    ")"
   ]
  },
  {
   "cell_type": "markdown",
   "id": "53d8f2a1",
   "metadata": {},
   "source": [
    "### NORMALIZE"
   ]
  },
  {
   "cell_type": "code",
   "execution_count": 57,
   "id": "4f410a4a",
   "metadata": {
    "pycharm": {
     "is_executing": true
    }
   },
   "outputs": [],
   "source": [
    "def process(image,label):\n",
    "    image = tf.cast(image/255. ,tf.float32)\n",
    "    return image,label\n",
    "\n",
    "train_ds = train_ds.map(process)\n",
    "validation_ds = validation_ds.map(process)"
   ]
  },
  {
   "cell_type": "markdown",
   "id": "203976db",
   "metadata": {},
   "source": [
    "### CNN MODEL"
   ]
  },
  {
   "cell_type": "code",
   "execution_count": 58,
   "id": "72606579",
   "metadata": {
    "pycharm": {
     "is_executing": true
    }
   },
   "outputs": [],
   "source": [
    "model = Sequential()\n",
    "\n",
    "model.add(Conv2D(32,kernel_size=(3,3),padding='valid',activation='relu',input_shape=(256,256,3)))\n",
    "model.add(BatchNormalization())\n",
    "model.add(MaxPooling2D(pool_size=(2,2),strides=2,padding='valid'))\n",
    "\n",
    "model.add(Conv2D(64,kernel_size=(3,3),padding='valid',activation='relu'))\n",
    "model.add(BatchNormalization())\n",
    "model.add(MaxPooling2D(pool_size=(2,2),strides=2,padding='valid'))\n",
    "\n",
    "model.add(Conv2D(128,kernel_size=(3,3),padding='valid',activation='relu'))\n",
    "model.add(BatchNormalization())\n",
    "model.add(MaxPooling2D(pool_size=(2,2),strides=2,padding='valid'))\n",
    "\n",
    "model.add(Flatten())\n",
    "\n",
    "model.add(Dense(128,activation='relu'))\n",
    "model.add(Dropout(0.1))\n",
    "model.add(Dense(64,activation='relu'))\n",
    "model.add(Dropout(0.1))\n",
    "model.add(Dense(1,activation='sigmoid'))"
   ]
  },
  {
   "cell_type": "code",
   "execution_count": 40,
   "id": "2806a06d",
   "metadata": {},
   "outputs": [
    {
     "name": "stdout",
     "output_type": "stream",
     "text": [
      "Model: \"sequential_1\"\n",
      "_________________________________________________________________\n",
      " Layer (type)                Output Shape              Param #   \n",
      "=================================================================\n",
      " conv2d_3 (Conv2D)           (None, 254, 254, 32)      896       \n",
      "                                                                 \n",
      " batch_normalization_3 (Batc  (None, 254, 254, 32)     128       \n",
      " hNormalization)                                                 \n",
      "                                                                 \n",
      " max_pooling2d_3 (MaxPooling  (None, 127, 127, 32)     0         \n",
      " 2D)                                                             \n",
      "                                                                 \n",
      " conv2d_4 (Conv2D)           (None, 125, 125, 64)      18496     \n",
      "                                                                 \n",
      " batch_normalization_4 (Batc  (None, 125, 125, 64)     256       \n",
      " hNormalization)                                                 \n",
      "                                                                 \n",
      " max_pooling2d_4 (MaxPooling  (None, 62, 62, 64)       0         \n",
      " 2D)                                                             \n",
      "                                                                 \n",
      " conv2d_5 (Conv2D)           (None, 60, 60, 128)       73856     \n",
      "                                                                 \n",
      " batch_normalization_5 (Batc  (None, 60, 60, 128)      512       \n",
      " hNormalization)                                                 \n",
      "                                                                 \n",
      " max_pooling2d_5 (MaxPooling  (None, 30, 30, 128)      0         \n",
      " 2D)                                                             \n",
      "                                                                 \n",
      " flatten_1 (Flatten)         (None, 115200)            0         \n",
      "                                                                 \n",
      " dense_3 (Dense)             (None, 128)               14745728  \n",
      "                                                                 \n",
      " dropout_2 (Dropout)         (None, 128)               0         \n",
      "                                                                 \n",
      " dense_4 (Dense)             (None, 64)                8256      \n",
      "                                                                 \n",
      " dropout_3 (Dropout)         (None, 64)                0         \n",
      "                                                                 \n",
      " dense_5 (Dense)             (None, 1)                 65        \n",
      "                                                                 \n",
      "=================================================================\n",
      "Total params: 14,848,193\n",
      "Trainable params: 14,847,745\n",
      "Non-trainable params: 448\n",
      "_________________________________________________________________\n"
     ]
    }
   ],
   "source": [
    "model.summary()"
   ]
  },
  {
   "cell_type": "code",
   "execution_count": 59,
   "id": "e84b36b1",
   "metadata": {
    "pycharm": {
     "is_executing": true
    }
   },
   "outputs": [],
   "source": [
    "model.compile(optimizer='adam',loss='binary_crossentropy',metrics=['accuracy'])"
   ]
  },
  {
   "cell_type": "code",
   "execution_count": 60,
   "id": "6de88fcf",
   "metadata": {
    "pycharm": {
     "is_executing": true
    }
   },
   "outputs": [
    {
     "name": "stdout",
     "output_type": "stream",
     "text": [
      "Epoch 1/10\n",
      "13/13 [==============================] - 7s 462ms/step - loss: 6.4454 - accuracy: 0.6200 - val_loss: 0.6502 - val_accuracy: 0.7317\n",
      "Epoch 2/10\n",
      "13/13 [==============================] - 6s 450ms/step - loss: 10.2262 - accuracy: 0.8200 - val_loss: 3.3279 - val_accuracy: 0.3902\n",
      "Epoch 3/10\n",
      "13/13 [==============================] - 6s 453ms/step - loss: 3.1065 - accuracy: 0.9000 - val_loss: 0.8147 - val_accuracy: 0.6829\n",
      "Epoch 4/10\n",
      "13/13 [==============================] - 6s 478ms/step - loss: 4.0598 - accuracy: 0.8400 - val_loss: 2.3270 - val_accuracy: 0.6341\n",
      "Epoch 5/10\n",
      "13/13 [==============================] - 7s 502ms/step - loss: 7.3442e-07 - accuracy: 1.0000 - val_loss: 6.6574 - val_accuracy: 0.6341\n",
      "Epoch 6/10\n",
      "13/13 [==============================] - 6s 472ms/step - loss: 2.2402 - accuracy: 0.9200 - val_loss: 6.9441 - val_accuracy: 0.3902\n",
      "Epoch 7/10\n",
      "13/13 [==============================] - 6s 466ms/step - loss: 3.1391 - accuracy: 0.9000 - val_loss: 6.0500 - val_accuracy: 0.6341\n",
      "Epoch 8/10\n",
      "13/13 [==============================] - 8s 584ms/step - loss: 0.0102 - accuracy: 1.0000 - val_loss: 2.9512 - val_accuracy: 0.2439\n",
      "Epoch 9/10\n",
      "13/13 [==============================] - 9s 671ms/step - loss: 1.2161 - accuracy: 0.9400 - val_loss: 10.2959 - val_accuracy: 0.3659\n",
      "Epoch 10/10\n",
      "13/13 [==============================] - 9s 675ms/step - loss: 1.0595 - accuracy: 0.9600 - val_loss: 2.9310 - val_accuracy: 0.6585\n"
     ]
    }
   ],
   "source": [
    "history = model.fit(train_ds,epochs=10,validation_data=validation_ds)"
   ]
  },
  {
   "cell_type": "code",
   "execution_count": 62,
   "id": "6f668b45",
   "metadata": {
    "pycharm": {
     "is_executing": true
    }
   },
   "outputs": [
    {
     "data": {
      "image/png": "[encoded data removed]",
      "text/plain": [
       "<Figure size 432x288 with 1 Axes>"
      ]
     },
     "metadata": {
      "needs_background": "light"
     },
     "output_type": "display_data"
    }
   ],
   "source": [
    "plt.plot(history.history['accuracy'],color='red',label='train')\n",
    "plt.plot(history.history['val_accuracy'],color='blue',label='validation')\n",
    "plt.legend()\n",
    "plt.show()"
   ]
  },
  {
   "cell_type": "code",
   "execution_count": 63,
   "id": "876b8691",
   "metadata": {
    "pycharm": {
     "is_executing": true
    }
   },
   "outputs": [
    {
     "data": {
      "image/png": "[encoded data removed]",
      "text/plain": [
       "<Figure size 432x288 with 1 Axes>"
      ]
     },
     "metadata": {
      "needs_background": "light"
     },
     "output_type": "display_data"
    }
   ],
   "source": [
    "plt.plot(history.history['loss'],color='red',label='train')\n",
    "plt.plot(history.history['val_loss'],color='blue',label='validation')\n",
    "plt.legend()\n",
    "plt.show()"
   ]
  },
  {
   "cell_type": "code",
   "execution_count": 65,
   "id": "3b40845e",
   "metadata": {
    "pycharm": {
     "is_executing": true
    }
   },
   "outputs": [],
   "source": [
    "import cv2"
   ]
  },
  {
   "cell_type": "markdown",
   "id": "3023b954",
   "metadata": {},
   "source": [
    "### LOADING IMAGE FOR TESTING"
   ]
  },
  {
   "cell_type": "code",
   "execution_count": 78,
   "id": "455af050",
   "metadata": {
    "pycharm": {
     "is_executing": true
    }
   },
   "outputs": [],
   "source": [
    "test_img = cv2.imread('acer.jpg')"
   ]
  },
  {
   "cell_type": "code",
   "execution_count": 79,
   "id": "6e25a2f9",
   "metadata": {
    "pycharm": {
     "is_executing": true
    }
   },
   "outputs": [
    {
     "data": {
      "text/plain": [
       "<matplotlib.image.AxesImage at 0x29b8a8a97f0>"
      ]
     },
     "execution_count": 79,
     "metadata": {},
     "output_type": "execute_result"
    },
    {
     "data": {
      "image/png": "[encoded data removed]",
      "text/plain": [
       "<Figure size 432x288 with 1 Axes>"
      ]
     },
     "metadata": {
      "needs_background": "light"
     },
     "output_type": "display_data"
    }
   ],
   "source": [
    "plt.imshow(test_img)"
   ]
  },
  {
   "cell_type": "code",
   "execution_count": 80,
   "id": "dbe64bba",
   "metadata": {
    "pycharm": {
     "is_executing": true
    }
   },
   "outputs": [
    {
     "data": {
      "text/plain": [
       "(720, 707, 3)"
      ]
     },
     "execution_count": 80,
     "metadata": {},
     "output_type": "execute_result"
    }
   ],
   "source": [
    "test_img.shape"
   ]
  },
  {
   "cell_type": "code",
   "execution_count": 81,
   "id": "dd5a50ae",
   "metadata": {
    "pycharm": {
     "is_executing": true
    }
   },
   "outputs": [],
   "source": [
    "test_img = cv2.resize(test_img,(256,256))"
   ]
  },
  {
   "cell_type": "code",
   "execution_count": 82,
   "id": "daa28f71",
   "metadata": {
    "pycharm": {
     "is_executing": true
    }
   },
   "outputs": [],
   "source": [
    "test_input = test_img.reshape((1,256,256,3))"
   ]
  },
  {
   "cell_type": "markdown",
   "id": "dce08c98",
   "metadata": {},
   "source": [
    "### PREDICTION"
   ]
  },
  {
   "cell_type": "code",
   "execution_count": 83,
   "id": "9c07ddca",
   "metadata": {
    "pycharm": {
     "is_executing": true
    }
   },
   "outputs": [
    {
     "name": "stdout",
     "output_type": "stream",
     "text": [
      "1/1 [==============================] - 0s 55ms/step\n"
     ]
    },
    {
     "data": {
      "text/plain": [
       "array([[0.]], dtype=float32)"
      ]
     },
     "execution_count": 83,
     "metadata": {},
     "output_type": "execute_result"
    }
   ],
   "source": [
    "model.predict(test_input)"
   ]
  },
  {
   "cell_type": "code",
   "execution_count": null,
   "id": "5317cc0d",
   "metadata": {},
   "outputs": [],
   "source": []
  }
 ],
 "metadata": {
  "kernelspec": {
   "display_name": "Python 3 (ipykernel)",
   "language": "python",
   "name": "python3"
  },
  "language_info": {
   "codemirror_mode": {
    "name": "ipython",
    "version": 3
   },
   "file_extension": ".py",
   "mimetype": "text/x-python",
   "name": "python",
   "nbconvert_exporter": "python",
   "pygments_lexer": "ipython3",
   "version": "3.9.1"
  },
  "vscode": {
   "interpreter": {
    "hash": "369f2c481f4da34e4445cda3fffd2e751bd1c4d706f27375911949ba6bb62e1c"
   }
  }
 },
 "nbformat": 4,
 "nbformat_minor": 5
}
