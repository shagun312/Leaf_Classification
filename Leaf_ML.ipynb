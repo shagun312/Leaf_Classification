{
 "cells": [
  {
   "cell_type": "markdown",
   "id": "d0ce334a",
   "metadata": {},
   "source": [
    "# MACHINE LEARNING ASSIGNMENT - LEAF CLASSIFICATION\n",
    "\n",
    "\n",
    "\n",
    "## SUBMITTED BY : \n",
    "### KHUSHI THAPAR (102018054)\n",
    "### SHAGUN SHARMA (102018062)"
   ]
  },
  {
   "cell_type": "markdown",
   "id": "33932bc4",
   "metadata": {},
   "source": [
    "## PREDICTING SPECIES OF LEAF"
   ]
  },
  {
   "cell_type": "markdown",
   "id": "02caa5ab",
   "metadata": {},
   "source": [
    "### IMPORTING LIBRARIES"
   ]
  },
  {
   "cell_type": "code",
   "execution_count": 79,
   "id": "9a6e8ef7",
   "metadata": {},
   "outputs": [],
   "source": [
    "import pandas as pd\n",
    "import numpy as np"
   ]
  },
  {
   "cell_type": "markdown",
   "id": "8b115338",
   "metadata": {},
   "source": [
    "### LOADING DATA"
   ]
  },
  {
   "cell_type": "code",
   "execution_count": 80,
   "id": "7ee79854",
   "metadata": {},
   "outputs": [],
   "source": [
    "train = pd.read_csv('train.csv')\n",
    "test = pd.read_csv('test.csv')"
   ]
  },
  {
   "cell_type": "code",
   "execution_count": 81,
   "id": "3dc8b9ac",
   "metadata": {},
   "outputs": [],
   "source": [
    "x_train = train.drop(['id', 'species'], axis = 1)\n",
    "x_test = test.drop(['id'], axis  = 1)"
   ]
  },
  {
   "cell_type": "code",
   "execution_count": 82,
   "id": "1a430389",
   "metadata": {},
   "outputs": [],
   "source": [
    "y_train = train['species']"
   ]
  },
  {
   "cell_type": "markdown",
   "id": "c915dda2",
   "metadata": {},
   "source": [
    "### FINDING NULL VALUES IN THE DATA"
   ]
  },
  {
   "cell_type": "code",
   "execution_count": 83,
   "id": "39f65459",
   "metadata": {},
   "outputs": [
    {
     "data": {
      "text/plain": [
       "0"
      ]
     },
     "execution_count": 83,
     "metadata": {},
     "output_type": "execute_result"
    }
   ],
   "source": [
    "train.isnull().any().sum()"
   ]
  },
  {
   "cell_type": "markdown",
   "id": "836b95f7",
   "metadata": {},
   "source": [
    "### FINDING UNIQUE VALUES "
   ]
  },
  {
   "cell_type": "code",
   "execution_count": 84,
   "id": "5d78e822",
   "metadata": {},
   "outputs": [
    {
     "data": {
      "text/plain": [
       "99"
      ]
     },
     "execution_count": 84,
     "metadata": {},
     "output_type": "execute_result"
    }
   ],
   "source": [
    "y_train.nunique()"
   ]
  },
  {
   "cell_type": "markdown",
   "id": "70cee519",
   "metadata": {},
   "source": [
    "### INDEXING SPECIES "
   ]
  },
  {
   "cell_type": "code",
   "execution_count": 85,
   "id": "27b4a5da",
   "metadata": {},
   "outputs": [],
   "source": [
    "species = {idx:value for idx , value in enumerate(y_train.unique())}"
   ]
  },
  {
   "cell_type": "markdown",
   "id": "7bb9fc75",
   "metadata": {},
   "source": [
    "### SPLITTING INTO TRAINING AND TESTING "
   ]
  },
  {
   "cell_type": "code",
   "execution_count": 99,
   "id": "12df30a7",
   "metadata": {},
   "outputs": [],
   "source": [
    "from sklearn.model_selection import  train_test_split"
   ]
  },
  {
   "cell_type": "code",
   "execution_count": 100,
   "id": "ca453f56",
   "metadata": {},
   "outputs": [],
   "source": [
    "train_t, train_test, y_t, y_test = train_test_split(x_train, y_train, test_size = 0.2, random_state =1)"
   ]
  },
  {
   "cell_type": "markdown",
   "id": "c212b39d",
   "metadata": {},
   "source": [
    "### REPLACING SPECIES NAMES WITH VALUES"
   ]
  },
  {
   "cell_type": "code",
   "execution_count": 101,
   "id": "eb6bbd45",
   "metadata": {},
   "outputs": [],
   "source": [
    " train_species = y_t.replace(to_replace=species.values(),value=species)"
   ]
  },
  {
   "cell_type": "code",
   "execution_count": 102,
   "id": "4d31ec5c",
   "metadata": {},
   "outputs": [
    {
     "data": {
      "text/plain": [
       "812    21\n",
       "47     40\n",
       "516    73\n",
       "851    80\n",
       "19     19\n",
       "       ..\n",
       "767    55\n",
       "72     53\n",
       "908    28\n",
       "235    81\n",
       "37     33\n",
       "Name: species, Length: 792, dtype: int64"
      ]
     },
     "execution_count": 102,
     "metadata": {},
     "output_type": "execute_result"
    }
   ],
   "source": [
    "train_species"
   ]
  },
  {
   "cell_type": "code",
   "execution_count": 103,
   "id": "88a36be2",
   "metadata": {},
   "outputs": [],
   "source": [
    "test_species = y_test.replace(to_replace=species.values(),value=species)"
   ]
  },
  {
   "cell_type": "code",
   "execution_count": 91,
   "id": "e52db9c5",
   "metadata": {},
   "outputs": [
    {
     "data": {
      "text/plain": [
       "320    96\n",
       "834    43\n",
       "946    72\n",
       "702     0\n",
       "941    24\n",
       "       ..\n",
       "783    26\n",
       "207    54\n",
       "757    71\n",
       "341    78\n",
       "241    24\n",
       "Name: species, Length: 198, dtype: int64"
      ]
     },
     "execution_count": 91,
     "metadata": {},
     "output_type": "execute_result"
    }
   ],
   "source": [
    "test_species"
   ]
  },
  {
   "cell_type": "markdown",
   "id": "3df66f32",
   "metadata": {},
   "source": [
    "## MODEL FITTING\n",
    "### DECISION TREE CLASSIFICATION "
   ]
  },
  {
   "cell_type": "code",
   "execution_count": 104,
   "id": "efdbae1b",
   "metadata": {},
   "outputs": [],
   "source": [
    "from sklearn.tree import DecisionTreeClassifier \n",
    "from sklearn import metrics"
   ]
  },
  {
   "cell_type": "code",
   "execution_count": 105,
   "id": "cfcea222",
   "metadata": {},
   "outputs": [],
   "source": [
    "clf = DecisionTreeClassifier()"
   ]
  },
  {
   "cell_type": "code",
   "execution_count": 106,
   "id": "a596ff2f",
   "metadata": {},
   "outputs": [],
   "source": [
    "clf = clf.fit(train_t, train_species)"
   ]
  },
  {
   "cell_type": "code",
   "execution_count": 107,
   "id": "81366501",
   "metadata": {},
   "outputs": [],
   "source": [
    "testdata2 = clf.predict(train_test)"
   ]
  },
  {
   "cell_type": "code",
   "execution_count": 108,
   "id": "aa535d12",
   "metadata": {},
   "outputs": [
    {
     "data": {
      "text/plain": [
       "array([96, 43, 72,  0, 81, 97, 48, 18, 54, 74, 81,  4, 85, 73, 48,  1,  9,\n",
       "       56, 68, 51, 62,  1, 97, 32, 58, 53, 53, 46, 13, 51, 89, 76, 97, 16,\n",
       "        2, 97, 79, 32, 70, 67, 71, 71,  2, 10, 15, 51, 30,  0, 31, 23, 69,\n",
       "       87, 94, 59, 51, 62, 28, 82, 22, 51, 95, 57, 73, 63, 70, 17,  8, 42,\n",
       "       41,  9, 32, 50,  8, 66, 32, 59,  0,  6,  2,  5, 50, 23, 30, 10, 20,\n",
       "       82, 44, 61, 34, 69,  2, 31, 86, 27,  8, 81, 35, 93, 92,  8, 93,  3,\n",
       "       93,  8,  7, 41, 26, 37,  5, 73, 90, 29, 27, 94,  1, 83, 31, 24, 94,\n",
       "       92, 11, 92, 73, 75, 96, 35,  7, 46, 37,  8,  4,  2, 48, 71, 34, 51,\n",
       "       27, 41, 35, 27, 92, 90, 70, 12, 94, 22, 40, 26, 68, 25,  8, 73, 78,\n",
       "       30, 34, 40, 58, 20, 72, 75, 83, 20, 64, 86, 78, 10, 31, 68, 39, 65,\n",
       "       98,  9, 95,  6, 33, 38, 60, 10,  3, 59, 82, 63, 89,  2, 71, 10, 17,\n",
       "       29, 11, 51,  5, 89, 43, 26, 54, 71, 78, 24], dtype=int64)"
      ]
     },
     "execution_count": 108,
     "metadata": {},
     "output_type": "execute_result"
    }
   ],
   "source": [
    "testdata2\n"
   ]
  },
  {
   "cell_type": "code",
   "execution_count": 109,
   "id": "c2cfb696",
   "metadata": {},
   "outputs": [
    {
     "data": {
      "text/html": [
       "<div>\n",
       "<style scoped>\n",
       "    .dataframe tbody tr th:only-of-type {\n",
       "        vertical-align: middle;\n",
       "    }\n",
       "\n",
       "    .dataframe tbody tr th {\n",
       "        vertical-align: top;\n",
       "    }\n",
       "\n",
       "    .dataframe thead th {\n",
       "        text-align: right;\n",
       "    }\n",
       "</style>\n",
       "<table border=\"1\" class=\"dataframe\">\n",
       "  <thead>\n",
       "    <tr style=\"text-align: right;\">\n",
       "      <th></th>\n",
       "      <th>Species</th>\n",
       "    </tr>\n",
       "  </thead>\n",
       "  <tbody>\n",
       "    <tr>\n",
       "      <th>0</th>\n",
       "      <td>96</td>\n",
       "    </tr>\n",
       "    <tr>\n",
       "      <th>1</th>\n",
       "      <td>43</td>\n",
       "    </tr>\n",
       "    <tr>\n",
       "      <th>2</th>\n",
       "      <td>72</td>\n",
       "    </tr>\n",
       "    <tr>\n",
       "      <th>3</th>\n",
       "      <td>0</td>\n",
       "    </tr>\n",
       "    <tr>\n",
       "      <th>4</th>\n",
       "      <td>81</td>\n",
       "    </tr>\n",
       "    <tr>\n",
       "      <th>...</th>\n",
       "      <td>...</td>\n",
       "    </tr>\n",
       "    <tr>\n",
       "      <th>193</th>\n",
       "      <td>26</td>\n",
       "    </tr>\n",
       "    <tr>\n",
       "      <th>194</th>\n",
       "      <td>54</td>\n",
       "    </tr>\n",
       "    <tr>\n",
       "      <th>195</th>\n",
       "      <td>71</td>\n",
       "    </tr>\n",
       "    <tr>\n",
       "      <th>196</th>\n",
       "      <td>78</td>\n",
       "    </tr>\n",
       "    <tr>\n",
       "      <th>197</th>\n",
       "      <td>24</td>\n",
       "    </tr>\n",
       "  </tbody>\n",
       "</table>\n",
       "<p>198 rows × 1 columns</p>\n",
       "</div>"
      ],
      "text/plain": [
       "     Species\n",
       "0         96\n",
       "1         43\n",
       "2         72\n",
       "3          0\n",
       "4         81\n",
       "..       ...\n",
       "193       26\n",
       "194       54\n",
       "195       71\n",
       "196       78\n",
       "197       24\n",
       "\n",
       "[198 rows x 1 columns]"
      ]
     },
     "execution_count": 109,
     "metadata": {},
     "output_type": "execute_result"
    }
   ],
   "source": [
    "y_testval = pd.DataFrame(testdata2, columns = ['Species'])\n",
    "y_testval"
   ]
  },
  {
   "cell_type": "code",
   "execution_count": 47,
   "id": "9a3e1705",
   "metadata": {},
   "outputs": [
    {
     "data": {
      "text/plain": [
       "320    96\n",
       "834    43\n",
       "946    72\n",
       "702     0\n",
       "941    24\n",
       "       ..\n",
       "783    26\n",
       "207    54\n",
       "757    71\n",
       "341    78\n",
       "241    24\n",
       "Name: species, Length: 198, dtype: int64"
      ]
     },
     "execution_count": 47,
     "metadata": {},
     "output_type": "execute_result"
    }
   ],
   "source": [
    "test_species"
   ]
  },
  {
   "cell_type": "markdown",
   "id": "9d623a24",
   "metadata": {},
   "source": [
    "### ACCURACY"
   ]
  },
  {
   "cell_type": "code",
   "execution_count": 110,
   "id": "2d73353f",
   "metadata": {},
   "outputs": [
    {
     "name": "stdout",
     "output_type": "stream",
     "text": [
      "Accuracy: 0.5858585858585859\n"
     ]
    }
   ],
   "source": [
    "print(\"Accuracy:\",metrics.accuracy_score(test_species, y_testval))"
   ]
  },
  {
   "cell_type": "markdown",
   "id": "da464c73",
   "metadata": {},
   "source": [
    "### PREDICTING SPECIES OF TEST DATA "
   ]
  },
  {
   "cell_type": "code",
   "execution_count": 112,
   "id": "6bc38883",
   "metadata": {},
   "outputs": [],
   "source": [
    "res = clf.predict(x_test)"
   ]
  },
  {
   "cell_type": "code",
   "execution_count": 113,
   "id": "ec2e2a2a",
   "metadata": {},
   "outputs": [
    {
     "data": {
      "text/plain": [
       "array([56, 93, 62, 93, 58,  0,  0, 37,  4, 58, 37, 12, 44, 68, 40, 92, 78,\n",
       "       25, 21, 54, 82, 97, 65, 92, 21, 95, 31, 23, 52, 95,  8, 12, 43, 97,\n",
       "       52, 27, 86,  2,  5, 58, 58, 51, 58, 41, 54, 95, 77, 37, 94,  1, 40,\n",
       "       57, 76,  3, 74, 45, 46, 96, 56, 76, 29, 64, 32, 89,  8, 55, 42,  4,\n",
       "       21, 17, 34, 77, 66, 87, 15, 10, 48,  4, 33, 68, 66, 16, 85, 83, 62,\n",
       "       71, 73, 74,  5, 26, 36, 96, 33, 32, 27, 74, 84, 27, 79,  9, 62, 22,\n",
       "        0, 30, 76,  4, 97, 83, 44, 53, 67, 90, 80, 81, 58, 64, 35, 75, 43,\n",
       "       65, 47, 88, 35, 30, 18, 28,  7, 15, 77, 81, 83, 72, 84, 82, 73, 60,\n",
       "       66, 31, 97, 47, 88,  7, 97, 61, 35, 40, 27, 15, 88, 47, 14, 67, 89,\n",
       "       52, 90, 62, 68, 77, 16, 18,  8, 35, 69, 46, 30, 49, 36, 75, 51, 60,\n",
       "       18, 32, 66, 32, 58, 68, 14, 13, 28, 26, 23,  0, 94, 34, 16, 57, 73,\n",
       "        0,  5,  1,  9, 53, 72, 55, 45,  0, 39, 98, 66, 18, 91, 87,  7, 78,\n",
       "       26, 41,  7, 96, 19,  9, 25, 24, 72, 89, 70, 83, 95, 51, 66,  7, 98,\n",
       "       34, 19, 77, 57, 35, 68, 85,  0, 80, 87, 29, 96, 96, 33, 59,  1, 70,\n",
       "       38, 28, 26, 54, 19, 95, 51, 96, 81, 50, 47, 81, 50, 83, 42,  8, 65,\n",
       "       44, 57,  8, 97, 45, 41, 55, 92, 74, 81, 54, 10, 26, 97, 89, 67,  7,\n",
       "       27, 86, 28, 33, 46, 77, 39, 34, 38, 83, 80, 60, 91, 88, 48,  3, 66,\n",
       "       15, 11, 56,  8, 22, 11, 70, 60, 62, 40, 71, 83, 40, 88, 87, 72, 81,\n",
       "       83, 28, 29, 41, 89, 13, 11, 77, 38, 94,  0, 68, 34, 35, 63, 14, 70,\n",
       "       13, 61, 77, 58,  2, 74, 20, 93, 76, 13, 39, 70, 61, 96,  5, 35, 42,\n",
       "       32, 81, 15, 98, 90, 45, 30, 36, 43, 81, 90, 47, 82, 52, 26, 24, 54,\n",
       "       64, 50, 57, 31, 71, 37,  8, 94, 64, 54, 78, 75, 88, 22, 90, 10, 76,\n",
       "       96, 44, 50, 55, 76, 64, 36,  1, 42, 97, 12, 23, 61, 17,  9, 19, 87,\n",
       "       52, 58, 76, 73, 59, 34, 51, 81, 83, 41, 53, 15, 66, 13, 50, 47, 83,\n",
       "       26, 48, 53, 21, 93, 17, 75, 56, 91, 71,  4,  4, 32,  3, 84, 15, 91,\n",
       "       17, 74,  2, 83, 49,  5, 47, 71, 64, 25, 38,  4, 79, 80, 59, 58, 62,\n",
       "       38, 46, 68, 36, 84, 72, 97, 70, 84, 87,  0, 39, 80, 38, 40, 11, 68,\n",
       "       29, 89, 78, 71, 22, 75, 18, 12, 87, 44,  8,  7, 63, 64, 32, 82, 29,\n",
       "       37, 98, 75, 35, 12, 23, 36, 58, 22, 65, 74, 50, 53, 94, 37, 79, 26,\n",
       "       22, 65, 19, 18, 52,  1, 11,  6, 98,  2, 93, 23, 68, 73, 54, 83, 42,\n",
       "       71, 67, 11, 93, 78, 12, 24, 75, 88, 47, 91, 43, 85, 31, 90, 94, 33,\n",
       "       28, 14, 25,  4, 29, 89, 60, 38, 45, 13, 15, 24,  8, 33, 84, 86, 98,\n",
       "       61, 97, 69, 17, 17, 43, 81,  0, 94, 30, 92, 10, 57,  1, 23, 15, 51,\n",
       "       92, 16, 97, 22, 25, 11, 45, 71, 86, 70, 91, 97, 56, 26, 13, 87, 59,\n",
       "       58, 70, 34, 15, 68, 98, 71, 45,  8, 39, 28, 62, 62,  4, 90, 23],\n",
       "      dtype=int64)"
      ]
     },
     "execution_count": 113,
     "metadata": {},
     "output_type": "execute_result"
    }
   ],
   "source": [
    "res"
   ]
  },
  {
   "cell_type": "code",
   "execution_count": 114,
   "id": "36ae27e2",
   "metadata": {},
   "outputs": [],
   "source": [
    "result = pd.DataFrame(res, columns = ['Species'])"
   ]
  },
  {
   "cell_type": "markdown",
   "id": "534a35a9",
   "metadata": {},
   "source": [
    "### FROM SPECIES NUMBERING TO SPECIES NAME"
   ]
  },
  {
   "cell_type": "code",
   "execution_count": 115,
   "id": "eaa97eaa",
   "metadata": {},
   "outputs": [],
   "source": [
    "ans = result.replace(to_replace=species.keys(),value=species.values())"
   ]
  },
  {
   "cell_type": "code",
   "execution_count": 116,
   "id": "faa86d56",
   "metadata": {},
   "outputs": [
    {
     "data": {
      "text/html": [
       "<div>\n",
       "<style scoped>\n",
       "    .dataframe tbody tr th:only-of-type {\n",
       "        vertical-align: middle;\n",
       "    }\n",
       "\n",
       "    .dataframe tbody tr th {\n",
       "        vertical-align: top;\n",
       "    }\n",
       "\n",
       "    .dataframe thead th {\n",
       "        text-align: right;\n",
       "    }\n",
       "</style>\n",
       "<table border=\"1\" class=\"dataframe\">\n",
       "  <thead>\n",
       "    <tr style=\"text-align: right;\">\n",
       "      <th></th>\n",
       "      <th>Species</th>\n",
       "    </tr>\n",
       "  </thead>\n",
       "  <tbody>\n",
       "    <tr>\n",
       "      <th>0</th>\n",
       "      <td>Quercus_Agrifolia</td>\n",
       "    </tr>\n",
       "    <tr>\n",
       "      <th>1</th>\n",
       "      <td>Castanea_Sativa</td>\n",
       "    </tr>\n",
       "    <tr>\n",
       "      <th>2</th>\n",
       "      <td>Acer_Circinatum</td>\n",
       "    </tr>\n",
       "    <tr>\n",
       "      <th>3</th>\n",
       "      <td>Castanea_Sativa</td>\n",
       "    </tr>\n",
       "    <tr>\n",
       "      <th>4</th>\n",
       "      <td>Acer_Rufinerve</td>\n",
       "    </tr>\n",
       "    <tr>\n",
       "      <th>...</th>\n",
       "      <td>...</td>\n",
       "    </tr>\n",
       "    <tr>\n",
       "      <th>589</th>\n",
       "      <td>Acer_Circinatum</td>\n",
       "    </tr>\n",
       "    <tr>\n",
       "      <th>590</th>\n",
       "      <td>Acer_Circinatum</td>\n",
       "    </tr>\n",
       "    <tr>\n",
       "      <th>591</th>\n",
       "      <td>Quercus_Variabilis</td>\n",
       "    </tr>\n",
       "    <tr>\n",
       "      <th>592</th>\n",
       "      <td>Quercus_x_Hispanica</td>\n",
       "    </tr>\n",
       "    <tr>\n",
       "      <th>593</th>\n",
       "      <td>Arundinaria_Simonii</td>\n",
       "    </tr>\n",
       "  </tbody>\n",
       "</table>\n",
       "<p>594 rows × 1 columns</p>\n",
       "</div>"
      ],
      "text/plain": [
       "                 Species\n",
       "0      Quercus_Agrifolia\n",
       "1        Castanea_Sativa\n",
       "2        Acer_Circinatum\n",
       "3        Castanea_Sativa\n",
       "4         Acer_Rufinerve\n",
       "..                   ...\n",
       "589      Acer_Circinatum\n",
       "590      Acer_Circinatum\n",
       "591   Quercus_Variabilis\n",
       "592  Quercus_x_Hispanica\n",
       "593  Arundinaria_Simonii\n",
       "\n",
       "[594 rows x 1 columns]"
      ]
     },
     "execution_count": 116,
     "metadata": {},
     "output_type": "execute_result"
    }
   ],
   "source": [
    "ans"
   ]
  },
  {
   "cell_type": "markdown",
   "id": "a0a1d8a8",
   "metadata": {},
   "source": [
    "### RANDOM FOREST "
   ]
  },
  {
   "cell_type": "code",
   "execution_count": 117,
   "id": "a82b1323",
   "metadata": {},
   "outputs": [
    {
     "data": {
      "text/plain": [
       "RandomForestClassifier(n_estimators=50)"
      ]
     },
     "execution_count": 117,
     "metadata": {},
     "output_type": "execute_result"
    }
   ],
   "source": [
    "from sklearn.ensemble import RandomForestClassifier\n",
    "classifier = RandomForestClassifier(n_estimators = 50)\n",
    "classifier.fit(train_t, train_species)"
   ]
  },
  {
   "cell_type": "code",
   "execution_count": 118,
   "id": "c61b73d4",
   "metadata": {},
   "outputs": [
    {
     "data": {
      "text/plain": [
       "array([96, 43, 72,  0, 24, 45, 67, 18, 54, 74, 81,  6, 85, 73, 67,  1,  9,\n",
       "       69, 68, 51, 34, 39, 25, 32, 55, 89, 53, 46, 13, 57, 63, 76, 76, 16,\n",
       "       76, 25, 88,  6, 70, 67, 72,  5,  2, 42, 15, 51, 30,  0, 31, 23, 20,\n",
       "       87, 94, 36, 57, 84, 28, 82, 84, 61, 95, 22, 73, 89, 70, 17,  8, 42,\n",
       "       41,  9, 32, 50, 61, 37, 32, 59,  0, 34,  2, 83, 50, 23, 30, 10,  6,\n",
       "       82, 44, 61, 17, 20, 30, 31, 86,  3,  6, 81, 46, 13, 74, 62, 93, 83,\n",
       "       93, 61,  7, 41, 26, 49,  5, 34, 90, 29, 94, 94, 39, 27, 82, 24,  3,\n",
       "       69, 11, 92, 34, 75, 96, 35,  7, 79, 37, 67, 61,  2, 48, 71, 34, 84,\n",
       "        4, 41, 35, 27, 22, 90, 70, 12, 94, 74, 55, 26, 74, 55,  8, 70, 14,\n",
       "       21, 68, 40, 58,  8, 88, 75, 31, 92, 64, 86, 78, 10, 82, 19, 39, 36,\n",
       "       98,  9, 95,  6, 33, 38, 60, 42,  3, 59, 82, 63, 63,  2, 71, 21, 17,\n",
       "       60, 11, 15,  5, 89, 43, 26, 89, 71, 78, 24], dtype=int64)"
      ]
     },
     "execution_count": 118,
     "metadata": {},
     "output_type": "execute_result"
    }
   ],
   "source": [
    "pred_s = classifier.predict(train_test)\n",
    "pred_s"
   ]
  },
  {
   "cell_type": "markdown",
   "id": "7b267c17",
   "metadata": {},
   "source": [
    "### ACCURACY"
   ]
  },
  {
   "cell_type": "code",
   "execution_count": 119,
   "id": "6334d615",
   "metadata": {},
   "outputs": [
    {
     "data": {
      "text/plain": [
       "0.9444444444444444"
      ]
     },
     "execution_count": 119,
     "metadata": {},
     "output_type": "execute_result"
    }
   ],
   "source": [
    "accuracy_score(test_species, pred_s)"
   ]
  },
  {
   "cell_type": "markdown",
   "id": "8e6e2e81",
   "metadata": {},
   "source": [
    "### PREDICTION OF TEST DATA "
   ]
  },
  {
   "cell_type": "code",
   "execution_count": 120,
   "id": "1fff4827",
   "metadata": {},
   "outputs": [],
   "source": [
    "pred = classifier.predict(x_test)"
   ]
  },
  {
   "cell_type": "code",
   "execution_count": 122,
   "id": "425b7d02",
   "metadata": {},
   "outputs": [
    {
     "data": {
      "text/html": [
       "<div>\n",
       "<style scoped>\n",
       "    .dataframe tbody tr th:only-of-type {\n",
       "        vertical-align: middle;\n",
       "    }\n",
       "\n",
       "    .dataframe tbody tr th {\n",
       "        vertical-align: top;\n",
       "    }\n",
       "\n",
       "    .dataframe thead th {\n",
       "        text-align: right;\n",
       "    }\n",
       "</style>\n",
       "<table border=\"1\" class=\"dataframe\">\n",
       "  <thead>\n",
       "    <tr style=\"text-align: right;\">\n",
       "      <th></th>\n",
       "      <th>Species</th>\n",
       "    </tr>\n",
       "  </thead>\n",
       "  <tbody>\n",
       "    <tr>\n",
       "      <th>0</th>\n",
       "      <td>56</td>\n",
       "    </tr>\n",
       "    <tr>\n",
       "      <th>1</th>\n",
       "      <td>13</td>\n",
       "    </tr>\n",
       "    <tr>\n",
       "      <th>2</th>\n",
       "      <td>62</td>\n",
       "    </tr>\n",
       "    <tr>\n",
       "      <th>3</th>\n",
       "      <td>93</td>\n",
       "    </tr>\n",
       "    <tr>\n",
       "      <th>4</th>\n",
       "      <td>86</td>\n",
       "    </tr>\n",
       "    <tr>\n",
       "      <th>...</th>\n",
       "      <td>...</td>\n",
       "    </tr>\n",
       "    <tr>\n",
       "      <th>589</th>\n",
       "      <td>62</td>\n",
       "    </tr>\n",
       "    <tr>\n",
       "      <th>590</th>\n",
       "      <td>30</td>\n",
       "    </tr>\n",
       "    <tr>\n",
       "      <th>591</th>\n",
       "      <td>6</td>\n",
       "    </tr>\n",
       "    <tr>\n",
       "      <th>592</th>\n",
       "      <td>25</td>\n",
       "    </tr>\n",
       "    <tr>\n",
       "      <th>593</th>\n",
       "      <td>23</td>\n",
       "    </tr>\n",
       "  </tbody>\n",
       "</table>\n",
       "<p>594 rows × 1 columns</p>\n",
       "</div>"
      ],
      "text/plain": [
       "     Species\n",
       "0         56\n",
       "1         13\n",
       "2         62\n",
       "3         93\n",
       "4         86\n",
       "..       ...\n",
       "589       62\n",
       "590       30\n",
       "591        6\n",
       "592       25\n",
       "593       23\n",
       "\n",
       "[594 rows x 1 columns]"
      ]
     },
     "execution_count": 122,
     "metadata": {},
     "output_type": "execute_result"
    }
   ],
   "source": [
    "result2 = pd.DataFrame(pred, columns = ['Species'])\n",
    "result2"
   ]
  },
  {
   "cell_type": "code",
   "execution_count": 123,
   "id": "f74a0890",
   "metadata": {},
   "outputs": [],
   "source": [
    "res2 = result2.replace(to_replace=species.keys(),value=species.values())"
   ]
  },
  {
   "cell_type": "code",
   "execution_count": 124,
   "id": "311e884c",
   "metadata": {},
   "outputs": [
    {
     "data": {
      "text/html": [
       "<div>\n",
       "<style scoped>\n",
       "    .dataframe tbody tr th:only-of-type {\n",
       "        vertical-align: middle;\n",
       "    }\n",
       "\n",
       "    .dataframe tbody tr th {\n",
       "        vertical-align: top;\n",
       "    }\n",
       "\n",
       "    .dataframe thead th {\n",
       "        text-align: right;\n",
       "    }\n",
       "</style>\n",
       "<table border=\"1\" class=\"dataframe\">\n",
       "  <thead>\n",
       "    <tr style=\"text-align: right;\">\n",
       "      <th></th>\n",
       "      <th>Species</th>\n",
       "    </tr>\n",
       "  </thead>\n",
       "  <tbody>\n",
       "    <tr>\n",
       "      <th>0</th>\n",
       "      <td>Quercus_Agrifolia</td>\n",
       "    </tr>\n",
       "    <tr>\n",
       "      <th>1</th>\n",
       "      <td>Quercus_Afares</td>\n",
       "    </tr>\n",
       "    <tr>\n",
       "      <th>2</th>\n",
       "      <td>Acer_Circinatum</td>\n",
       "    </tr>\n",
       "    <tr>\n",
       "      <th>3</th>\n",
       "      <td>Castanea_Sativa</td>\n",
       "    </tr>\n",
       "    <tr>\n",
       "      <th>4</th>\n",
       "      <td>Alnus_Viridis</td>\n",
       "    </tr>\n",
       "    <tr>\n",
       "      <th>...</th>\n",
       "      <td>...</td>\n",
       "    </tr>\n",
       "    <tr>\n",
       "      <th>589</th>\n",
       "      <td>Acer_Circinatum</td>\n",
       "    </tr>\n",
       "    <tr>\n",
       "      <th>590</th>\n",
       "      <td>Alnus_Rubra</td>\n",
       "    </tr>\n",
       "    <tr>\n",
       "      <th>591</th>\n",
       "      <td>Quercus_Canariensis</td>\n",
       "    </tr>\n",
       "    <tr>\n",
       "      <th>592</th>\n",
       "      <td>Quercus_Phillyraeoides</td>\n",
       "    </tr>\n",
       "    <tr>\n",
       "      <th>593</th>\n",
       "      <td>Arundinaria_Simonii</td>\n",
       "    </tr>\n",
       "  </tbody>\n",
       "</table>\n",
       "<p>594 rows × 1 columns</p>\n",
       "</div>"
      ],
      "text/plain": [
       "                    Species\n",
       "0         Quercus_Agrifolia\n",
       "1            Quercus_Afares\n",
       "2           Acer_Circinatum\n",
       "3           Castanea_Sativa\n",
       "4             Alnus_Viridis\n",
       "..                      ...\n",
       "589         Acer_Circinatum\n",
       "590             Alnus_Rubra\n",
       "591     Quercus_Canariensis\n",
       "592  Quercus_Phillyraeoides\n",
       "593     Arundinaria_Simonii\n",
       "\n",
       "[594 rows x 1 columns]"
      ]
     },
     "execution_count": 124,
     "metadata": {},
     "output_type": "execute_result"
    }
   ],
   "source": [
    "res2"
   ]
  },
  {
   "cell_type": "markdown",
   "id": "97f75371",
   "metadata": {},
   "source": [
    "## IMAGE CLASSIFICATION\n",
    "\n"
   ]
  },
  {
   "cell_type": "code",
   "execution_count": null,
   "id": "dfd1d332",
   "metadata": {},
   "outputs": [],
   "source": []
  }
 ],
 "metadata": {
  "kernelspec": {
   "display_name": "Python 3 (ipykernel)",
   "language": "python",
   "name": "python3"
  },
  "language_info": {
   "codemirror_mode": {
    "name": "ipython",
    "version": 3
   },
   "file_extension": ".py",
   "mimetype": "text/x-python",
   "name": "python",
   "nbconvert_exporter": "python",
   "pygments_lexer": "ipython3",
   "version": "3.9.1"
  }
 },
 "nbformat": 4,
 "nbformat_minor": 5
}
